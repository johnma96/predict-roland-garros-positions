{
 "cells": [
  {
   "cell_type": "code",
   "execution_count": 1,
   "metadata": {},
   "outputs": [],
   "source": [
    "import pyprojroot\n",
    "import sys\n",
    "\n",
    "package_path = pyprojroot.here().__str__()\n",
    "if package_path not in sys.path:\n",
    "    sys.path.append(package_path)"
   ]
  },
  {
   "cell_type": "code",
   "execution_count": 2,
   "metadata": {},
   "outputs": [],
   "source": [
    "import os\n",
    "import pandas as pd\n",
    "import numpy as np\n",
    "import glob\n",
    "from utils import LoadData, AbsPaths\n",
    "from datapackage import Package"
   ]
  },
  {
   "cell_type": "code",
   "execution_count": 3,
   "metadata": {},
   "outputs": [],
   "source": [
    "def select_columns(file_name = \"atp_matches_historic\", cols:str=['tourney_id','tourney_name','surface','tourney_date','round','winner_id',\n",
    "                                                                 'winner_rank', 'winner_rank_points', 'loser_id',\n",
    "                                                             'loser_rank', 'loser_rank_points','score','minutes'],\n",
    "                   path_file_name=None, path_to_save = None):\n",
    "    if path_file_name is None:\n",
    "        path_file_name=AbsPaths().get_abs_path_folder(folder_name=\"interim\")+ f\"{file_name}\" + \".csv\"\n",
    "    data=pd.read_csv(path_file_name)\n",
    "    data=data.loc[:,cols]\n",
    "    return data"
   ]
  },
  {
   "cell_type": "code",
   "execution_count": 4,
   "metadata": {},
   "outputs": [],
   "source": [
    "def tourney_table(file_name:str=None, path_to_save = None):\n",
    "    data=select_columns(cols=['tourney_id', 'tourney_name', 'surface','tourney_date']).drop_duplicates()\n",
    "    if path_to_save is None:\n",
    "        path_to_save = AbsPaths().get_abs_path_folder(folder_name='interim')\n",
    "    if file_name is None:\n",
    "        file_name= 'TourneyTable'\n",
    "    data.to_csv(path_to_save + f\"{file_name}.csv\", index=False)"
   ]
  },
  {
   "cell_type": "code",
   "execution_count": 5,
   "metadata": {},
   "outputs": [],
   "source": [
    "def GetAuxiliarDataHub(link='https://datahub.io/sports-data/atp-world-tour-tennis-data/datapackage.json'):\n",
    "    package = Package(link)\n",
    "    return package\n",
    "\n",
    "def SaveAuxiliarDataHub(path_to_save, table_to_extract):\n",
    "    package=GetAuxiliarDataHub()\n",
    "    id_players=package.resource_names.index(table_to_extract)\n",
    "    Data=pd.DataFrame(package.resources[id_players].read(), columns=package.resources[id_players].headers)\n",
    "    if path_to_save is None:\n",
    "        path_to_save = AbsPaths().get_abs_path_folder(folder_name='external')\n",
    "    Data.to_csv(path_to_save + f\"{table_to_extract}.csv\", index=False)\n",
    "\n",
    "    \n",
    "def OpenAuxiliarData(name:str='player_overviews_unindexed', path:str=None):\n",
    "    if path is None:\n",
    "        path= AbsPaths().get_abs_path_folder(folder_name='external')\n",
    "    if not os.path.exists(path+ f\"{name}.csv\"):\n",
    "        auxiliarData=SaveAuxiliarDataHub(path, name)\n",
    "    AuxiliarData=pd.read_csv(path+ f\"{name}.csv\")\n",
    "    return AuxiliarData\n"
   ]
  },
  {
   "cell_type": "code",
   "execution_count": 6,
   "metadata": {},
   "outputs": [],
   "source": [
    "def PlayerTable(file_name:str=None, path_to_save = None):\n",
    "    data=select_columns(cols=['tourney_date','winner_id','winner_name','winner_ht','winner_age','winner_ioc']).rename(columns={'winner_id':'id','winner_name':'name','winner_ht':'ht', 'winner_age':'age','winner_ioc':'ioc'})                          \n",
    "    data2=select_columns(cols=['tourney_date','loser_id','loser_name','loser_ht','loser_age','loser_ioc']).rename(columns={'loser_id':'id','loser_name':'name','loser_ht':'ht', 'loser_age':'age','loser_ioc':'ioc'})\n",
    "    players=pd.concat([data, data2]).drop_duplicates(subset=['id','name','ht','ioc']).reset_index()    \n",
    "    for i in players.index:\n",
    "        players.loc[i,'birthdate']=(pd.to_datetime(players.loc[i,'tourney_date'], format='%Y%m%d')-pd.Timedelta(str(players.loc[i,'age'])+'Y')).strftime('%Y-%m-%d')\n",
    "    \n",
    "    players=AddCharacteristic_PlayerTable(players, 'weight_kg')\n",
    "    players=ReviewHt_PlayerTable(players)\n",
    "    \n",
    "    if path_to_save is None:\n",
    "        path_to_save = AbsPaths().get_abs_path_folder(folder_name='interim')\n",
    "    if file_name is None:\n",
    "        file_name= 'PlayerTable'\n",
    "    players.loc[:,['id','name','birthdate','weight_kg','ht','ioc']].to_csv(path_to_save + f\"{file_name}.csv\", index=False)\n",
    "\n",
    "def AddCharacteristic_PlayerTable(players, characteristic):\n",
    "    AuxiliarData=OpenAuxiliarData()\n",
    "    AuxiliarData.loc[:,'name']=AuxiliarData.loc[:,'first_name'].str.replace('-',' ').str.replace('.','')+' '+AuxiliarData.loc[:,'last_name'].str.replace('-',' ').str.replace('.','').str.title()\n",
    "    for i in players.index:\n",
    "        if len(AuxiliarData[AuxiliarData.name==players.loc[i,'name']][AuxiliarData.flag_code==players.loc[i,'ioc']][characteristic])>0:\n",
    "            players.loc[i, characteristic]=AuxiliarData[AuxiliarData.name==players.loc[i,'name']][AuxiliarData.flag_code==players.loc[i,'ioc']][characteristic].values[0] \n",
    "        else:\n",
    "            try:\n",
    "                players.loc[i, characteristic]=AuxiliarData[AuxiliarData.name==players.loc[i,'name']][characteristic].values[0] \n",
    "            except:pass\n",
    "    players.loc[players[characteristic].isna(),characteristic]=players[characteristic].mean()\n",
    "    return players\n",
    "\n",
    "def ReviewHt_PlayerTable(players):\n",
    "    AuxiliarData=OpenAuxiliarData()\n",
    "    AuxiliarData.loc[:,'name']=AuxiliarData.loc[:,'first_name'].str.replace('-',' ').str.replace('.','')+' '+AuxiliarData.loc[:,'last_name'].str.replace('-',' ').str.replace('.','').str.title()\n",
    "    for i in players[players.ht.isna()].index:\n",
    "        if len(AuxiliarData[AuxiliarData.name==players.loc[i,'name']][AuxiliarData.flag_code==players.loc[i,'ioc']]['height_cm'])>0:\n",
    "            players.loc[i, 'ht']=AuxiliarData[AuxiliarData.name==players.loc[i,'name']][AuxiliarData.flag_code==players.loc[i,'ioc']]['height_cm'].values[0] \n",
    "        else:\n",
    "            try:\n",
    "                players.loc[i, 'ht']=AuxiliarData[AuxiliarData.name==players.loc[i,'name']]['height_cm'].values[0] \n",
    "            except:pass\n",
    "    players.loc[players.ht.isna(),'ht']=players.ht.mean()\n",
    "    return players"
   ]
  },
  {
   "cell_type": "code",
   "execution_count": 7,
   "metadata": {},
   "outputs": [],
   "source": [
    "def TableMatches(file_name:str=None, path_to_save = None):\n",
    "    data=select_columns()\n",
    "    Nan=NanColumns(data)\n",
    "    data=CleanNaNData(data, Nan)\n",
    "    data=CleanProperties(data,Nan)\n",
    "    if path_to_save is None:\n",
    "        path_to_save = AbsPaths().get_abs_path_folder(folder_name='interim')\n",
    "    if file_name is None:\n",
    "        file_name= 'MatchesTable'\n",
    "    data.to_csv(path_to_save + f\"{file_name}.csv\", index=False)\n"
   ]
  },
  {
   "cell_type": "code",
   "execution_count": 8,
   "metadata": {},
   "outputs": [],
   "source": [
    "def NanColumns(data):\n",
    "    NanCols=data.keys()[data.isna().sum()>0]\n",
    "    return NanCols\n",
    "\n",
    "def CleanNaNData(data, Nan):\n",
    "    if 'minutes' in Nan:\n",
    "        data=CleanMinutes(data)\n",
    "    Nan=Nan.drop('minutes')\n",
    "    #data=CleanProperties(data, Nan)\n",
    "    return data\n",
    "\n",
    "def CleanMinutes(data):\n",
    "    data.loc[data.score=='W/O','minutes']=0\n",
    "    data.loc[data.minutes.isna(), 'minutes']=data.loc[data.minutes.isna(),'score'].str.split(' ').apply(lambda x: len(x) * 35)\n",
    "    return data\n",
    "\n",
    "def CleanProperties(data, Nan):\n",
    "    for j in Nan:\n",
    "        for k in data[data[j].isna()].index:\n",
    "            if len(data[data[j.split('_')[0]+'_id']==data.loc[k,j.split('_')[0]+'_id']].dropna())>0:\n",
    "                try:\n",
    "                    data.loc[k,j]=data.loc[:k-1,:][data[j.split('_')[0]+'_id']==data[data[j].isna()][j.split('_')[0]+'_id'].values[0]].dropna().iloc[-1][j]\n",
    "                except:\n",
    "                    data.loc[k,j]=data.loc[k+1:,:][data[j.split('_')[0]+'_id']==data[data[j].isna()][j.split('_')[0]+'_id'].values[0]].dropna().iloc[-1][j]\n",
    "            else:\n",
    "                data.loc[k,j]=round(data.loc[:,'loser_rank'].mean(),0)\n",
    "    return data"
   ]
  },
  {
   "cell_type": "code",
   "execution_count": 9,
   "metadata": {},
   "outputs": [
    {
     "name": "stderr",
     "output_type": "stream",
     "text": [
      "C:\\Users\\unalmed\\AppData\\Local\\Temp\\ipykernel_3852\\665118558.py:22: UserWarning: Boolean Series key will be reindexed to match DataFrame index.\n",
      "  data.loc[k,j]=data.loc[:k-1,:][data[j.split('_')[0]+'_id']==data[data[j].isna()][j.split('_')[0]+'_id'].values[0]].dropna().iloc[-1][j]\n",
      "C:\\Users\\unalmed\\AppData\\Local\\Temp\\ipykernel_3852\\665118558.py:24: UserWarning: Boolean Series key will be reindexed to match DataFrame index.\n",
      "  data.loc[k,j]=data.loc[k+1:,:][data[j.split('_')[0]+'_id']==data[data[j].isna()][j.split('_')[0]+'_id'].values[0]].dropna().iloc[-1][j]\n",
      "C:\\Users\\unalmed\\AppData\\Local\\Temp\\ipykernel_3852\\1882527272.py:6: FutureWarning: Units 'M', 'Y' and 'y' do not represent unambiguous timedelta values and will be removed in a future version.\n",
      "  players.loc[i,'birthdate']=(pd.to_datetime(players.loc[i,'tourney_date'], format='%Y%m%d')-pd.Timedelta(str(players.loc[i,'age'])+'Y')).strftime('%Y-%m-%d')\n",
      "C:\\Users\\unalmed\\AppData\\Local\\Temp\\ipykernel_3852\\1882527272.py:6: FutureWarning: Units 'M', 'Y' and 'y' do not represent unambiguous timedelta values and will be removed in a future version.\n",
      "  players.loc[i,'birthdate']=(pd.to_datetime(players.loc[i,'tourney_date'], format='%Y%m%d')-pd.Timedelta(str(players.loc[i,'age'])+'Y')).strftime('%Y-%m-%d')\n",
      "C:\\Users\\unalmed\\AppData\\Local\\Temp\\ipykernel_3852\\1882527272.py:19: FutureWarning: The default value of regex will change from True to False in a future version. In addition, single character regular expressions will *not* be treated as literal strings when regex=True.\n",
      "  AuxiliarData.loc[:,'name']=AuxiliarData.loc[:,'first_name'].str.replace('-',' ').str.replace('.','')+' '+AuxiliarData.loc[:,'last_name'].str.replace('-',' ').str.replace('.','').str.title()\n",
      "C:\\Users\\unalmed\\AppData\\Local\\Temp\\ipykernel_3852\\1882527272.py:21: UserWarning: Boolean Series key will be reindexed to match DataFrame index.\n",
      "  if len(AuxiliarData[AuxiliarData.name==players.loc[i,'name']][AuxiliarData.flag_code==players.loc[i,'ioc']][characteristic])>0:\n",
      "C:\\Users\\unalmed\\AppData\\Local\\Temp\\ipykernel_3852\\1882527272.py:22: UserWarning: Boolean Series key will be reindexed to match DataFrame index.\n",
      "  players.loc[i, characteristic]=AuxiliarData[AuxiliarData.name==players.loc[i,'name']][AuxiliarData.flag_code==players.loc[i,'ioc']][characteristic].values[0]\n",
      "C:\\Users\\unalmed\\AppData\\Local\\Temp\\ipykernel_3852\\1882527272.py:21: UserWarning: Boolean Series key will be reindexed to match DataFrame index.\n",
      "  if len(AuxiliarData[AuxiliarData.name==players.loc[i,'name']][AuxiliarData.flag_code==players.loc[i,'ioc']][characteristic])>0:\n",
      "C:\\Users\\unalmed\\AppData\\Local\\Temp\\ipykernel_3852\\1882527272.py:22: UserWarning: Boolean Series key will be reindexed to match DataFrame index.\n",
      "  players.loc[i, characteristic]=AuxiliarData[AuxiliarData.name==players.loc[i,'name']][AuxiliarData.flag_code==players.loc[i,'ioc']][characteristic].values[0]\n",
      "C:\\Users\\unalmed\\AppData\\Local\\Temp\\ipykernel_3852\\1882527272.py:32: FutureWarning: The default value of regex will change from True to False in a future version. In addition, single character regular expressions will *not* be treated as literal strings when regex=True.\n",
      "  AuxiliarData.loc[:,'name']=AuxiliarData.loc[:,'first_name'].str.replace('-',' ').str.replace('.','')+' '+AuxiliarData.loc[:,'last_name'].str.replace('-',' ').str.replace('.','').str.title()\n",
      "C:\\Users\\unalmed\\AppData\\Local\\Temp\\ipykernel_3852\\1882527272.py:34: UserWarning: Boolean Series key will be reindexed to match DataFrame index.\n",
      "  if len(AuxiliarData[AuxiliarData.name==players.loc[i,'name']][AuxiliarData.flag_code==players.loc[i,'ioc']]['height_cm'])>0:\n",
      "C:\\Users\\unalmed\\AppData\\Local\\Temp\\ipykernel_3852\\1882527272.py:35: UserWarning: Boolean Series key will be reindexed to match DataFrame index.\n",
      "  players.loc[i, 'ht']=AuxiliarData[AuxiliarData.name==players.loc[i,'name']][AuxiliarData.flag_code==players.loc[i,'ioc']]['height_cm'].values[0]\n"
     ]
    }
   ],
   "source": [
    "tabla=TableMatches()\n",
    "players=PlayerTable()\n",
    "tourney=tourney_table()"
   ]
  },
  {
   "cell_type": "code",
   "execution_count": 10,
   "metadata": {},
   "outputs": [],
   "source": [
    "players"
   ]
  },
  {
   "cell_type": "code",
   "execution_count": 11,
   "metadata": {},
   "outputs": [],
   "source": [
    "import pandas as pd"
   ]
  },
  {
   "cell_type": "code",
   "execution_count": 17,
   "metadata": {},
   "outputs": [],
   "source": [
    "matches = pd.read_csv(AbsPaths().get_abs_path_file(file_name=\"PlayerTable.csv\"))"
   ]
  },
  {
   "cell_type": "code",
   "execution_count": 18,
   "metadata": {},
   "outputs": [
    {
     "data": {
      "text/plain": [
       "id           0\n",
       "name         0\n",
       "birthdate    0\n",
       "weight_kg    0\n",
       "ht           0\n",
       "ioc          0\n",
       "dtype: int64"
      ]
     },
     "execution_count": 18,
     "metadata": {},
     "output_type": "execute_result"
    }
   ],
   "source": [
    "matches.isna().sum()"
   ]
  },
  {
   "cell_type": "code",
   "execution_count": null,
   "metadata": {},
   "outputs": [],
   "source": []
  }
 ],
 "metadata": {
  "kernelspec": {
   "display_name": "Python 3 (ipykernel)",
   "language": "python",
   "name": "python3"
  },
  "language_info": {
   "codemirror_mode": {
    "name": "ipython",
    "version": 3
   },
   "file_extension": ".py",
   "mimetype": "text/x-python",
   "name": "python",
   "nbconvert_exporter": "python",
   "pygments_lexer": "ipython3",
   "version": "3.11.2"
  },
  "vscode": {
   "interpreter": {
    "hash": "8cf9cdb65e4e40c1b302ac1c142839c4793eb690b9bbeb430d4671a8010b7b2d"
   }
  }
 },
 "nbformat": 4,
 "nbformat_minor": 2
}
