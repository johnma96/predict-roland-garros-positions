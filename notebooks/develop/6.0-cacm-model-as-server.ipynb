{
 "cells": [
  {
   "cell_type": "code",
   "execution_count": 1,
   "id": "910806ba",
   "metadata": {},
   "outputs": [],
   "source": [
    "import pyprojroot\n",
    "import sys\n",
    "\n",
    "package_path = pyprojroot.here().__str__()\n",
    "if package_path not in sys.path:\n",
    "    sys.path.append(package_path)"
   ]
  },
  {
   "cell_type": "code",
   "execution_count": 2,
   "id": "3baf70cc",
   "metadata": {},
   "outputs": [],
   "source": [
    "import re\n",
    "import os\n",
    "import pickle\n",
    "import mlflow\n",
    "import mlflow.sklearn\n",
    "\n",
    "import numpy as np\n",
    "import pandas as pd\n",
    "import matplotlib.pyplot as plt\n",
    "\n",
    "from utils import LoadData, AbsPaths\n",
    "\n",
    "from sklearn.model_selection import train_test_split"
   ]
  },
  {
   "cell_type": "markdown",
   "id": "a2ec732e",
   "metadata": {},
   "source": [
    "# Loading and prepare data"
   ]
  },
  {
   "cell_type": "code",
   "execution_count": 3,
   "id": "acf04ef7",
   "metadata": {},
   "outputs": [],
   "source": [
    "final_data='operational_rdbms.csv'\n",
    "df = LoadData().from_csv(file_name=final_data)\n",
    "df.loc[:,'tourney_name']=df.tourney_name.str.upper() ###AGREGAR A CALIDAD DE DATOS."
   ]
  },
  {
   "cell_type": "code",
   "execution_count": 4,
   "id": "d420e422",
   "metadata": {},
   "outputs": [
    {
     "data": {
      "text/html": [
       "<div>\n",
       "<style scoped>\n",
       "    .dataframe tbody tr th:only-of-type {\n",
       "        vertical-align: middle;\n",
       "    }\n",
       "\n",
       "    .dataframe tbody tr th {\n",
       "        vertical-align: top;\n",
       "    }\n",
       "\n",
       "    .dataframe thead th {\n",
       "        text-align: right;\n",
       "    }\n",
       "</style>\n",
       "<table border=\"1\" class=\"dataframe\">\n",
       "  <thead>\n",
       "    <tr style=\"text-align: right;\">\n",
       "      <th></th>\n",
       "      <th>tourney_date</th>\n",
       "      <th>tourney_name</th>\n",
       "      <th>surface</th>\n",
       "      <th>id</th>\n",
       "      <th>ht</th>\n",
       "      <th>wg</th>\n",
       "      <th>age</th>\n",
       "      <th>rank</th>\n",
       "      <th>minutes_played</th>\n",
       "      <th>pj</th>\n",
       "      <th>pg</th>\n",
       "      <th>pp</th>\n",
       "      <th>round</th>\n",
       "    </tr>\n",
       "  </thead>\n",
       "  <tbody>\n",
       "    <tr>\n",
       "      <th>0</th>\n",
       "      <td>2000-01-17</td>\n",
       "      <td>AUSTRALIAN OPEN</td>\n",
       "      <td>Hard</td>\n",
       "      <td>101086.0</td>\n",
       "      <td>180.0</td>\n",
       "      <td>82.0</td>\n",
       "      <td>36</td>\n",
       "      <td>94.0</td>\n",
       "      <td>0.0</td>\n",
       "      <td>0.0</td>\n",
       "      <td>0.0</td>\n",
       "      <td>0.0</td>\n",
       "      <td>128</td>\n",
       "    </tr>\n",
       "    <tr>\n",
       "      <th>1</th>\n",
       "      <td>2000-01-17</td>\n",
       "      <td>AUSTRALIAN OPEN</td>\n",
       "      <td>Hard</td>\n",
       "      <td>101150.0</td>\n",
       "      <td>180.0</td>\n",
       "      <td>80.0</td>\n",
       "      <td>35</td>\n",
       "      <td>82.0</td>\n",
       "      <td>0.0</td>\n",
       "      <td>0.0</td>\n",
       "      <td>0.0</td>\n",
       "      <td>0.0</td>\n",
       "      <td>64</td>\n",
       "    </tr>\n",
       "    <tr>\n",
       "      <th>2</th>\n",
       "      <td>2000-01-17</td>\n",
       "      <td>AUSTRALIAN OPEN</td>\n",
       "      <td>Hard</td>\n",
       "      <td>101185.0</td>\n",
       "      <td>188.0</td>\n",
       "      <td>88.0</td>\n",
       "      <td>35</td>\n",
       "      <td>126.0</td>\n",
       "      <td>0.0</td>\n",
       "      <td>0.0</td>\n",
       "      <td>0.0</td>\n",
       "      <td>0.0</td>\n",
       "      <td>64</td>\n",
       "    </tr>\n",
       "    <tr>\n",
       "      <th>3</th>\n",
       "      <td>2000-01-17</td>\n",
       "      <td>AUSTRALIAN OPEN</td>\n",
       "      <td>Hard</td>\n",
       "      <td>101463.0</td>\n",
       "      <td>185.0</td>\n",
       "      <td>73.0</td>\n",
       "      <td>32</td>\n",
       "      <td>139.0</td>\n",
       "      <td>0.0</td>\n",
       "      <td>0.0</td>\n",
       "      <td>0.0</td>\n",
       "      <td>0.0</td>\n",
       "      <td>128</td>\n",
       "    </tr>\n",
       "    <tr>\n",
       "      <th>4</th>\n",
       "      <td>2000-01-17</td>\n",
       "      <td>AUSTRALIAN OPEN</td>\n",
       "      <td>Hard</td>\n",
       "      <td>101532.0</td>\n",
       "      <td>183.0</td>\n",
       "      <td>71.0</td>\n",
       "      <td>32</td>\n",
       "      <td>39.0</td>\n",
       "      <td>0.0</td>\n",
       "      <td>0.0</td>\n",
       "      <td>0.0</td>\n",
       "      <td>0.0</td>\n",
       "      <td>32</td>\n",
       "    </tr>\n",
       "  </tbody>\n",
       "</table>\n",
       "</div>"
      ],
      "text/plain": [
       "  tourney_date     tourney_name surface        id     ht    wg  age   rank  \\\n",
       "0   2000-01-17  AUSTRALIAN OPEN    Hard  101086.0  180.0  82.0   36   94.0   \n",
       "1   2000-01-17  AUSTRALIAN OPEN    Hard  101150.0  180.0  80.0   35   82.0   \n",
       "2   2000-01-17  AUSTRALIAN OPEN    Hard  101185.0  188.0  88.0   35  126.0   \n",
       "3   2000-01-17  AUSTRALIAN OPEN    Hard  101463.0  185.0  73.0   32  139.0   \n",
       "4   2000-01-17  AUSTRALIAN OPEN    Hard  101532.0  183.0  71.0   32   39.0   \n",
       "\n",
       "   minutes_played   pj   pg   pp  round  \n",
       "0             0.0  0.0  0.0  0.0    128  \n",
       "1             0.0  0.0  0.0  0.0     64  \n",
       "2             0.0  0.0  0.0  0.0     64  \n",
       "3             0.0  0.0  0.0  0.0    128  \n",
       "4             0.0  0.0  0.0  0.0     32  "
      ]
     },
     "execution_count": 4,
     "metadata": {},
     "output_type": "execute_result"
    }
   ],
   "source": [
    "df.head()"
   ]
  },
  {
   "cell_type": "code",
   "execution_count": 5,
   "id": "2f140555",
   "metadata": {},
   "outputs": [],
   "source": [
    "def one_hot_codification(data:pd.DataFrame, variable:str):\n",
    "\n",
    "    new_variables= pd.get_dummies(data[variable], drop_first=True)\n",
    "    data.loc[:,new_variables.columns]=new_variables\n",
    "    data=data.drop(columns=variable)\n",
    "    #data=pd.concat([data.drop(columns=variable),new_variables],axis=1)\n",
    "    return data"
   ]
  },
  {
   "cell_type": "code",
   "execution_count": 6,
   "id": "e2f4630e",
   "metadata": {},
   "outputs": [],
   "source": [
    "def ordinal_codification(data:pd.DataFrame, variable:str):\n",
    "\n",
    "    for i,j in enumerate(np.sort(df[variable].unique())):\n",
    "        data.loc[data[variable]==j,variable+'_cod']=i\n",
    "    \n",
    "    data=data.drop(columns=variable)\n",
    "    return data"
   ]
  },
  {
   "cell_type": "code",
   "execution_count": 7,
   "id": "b96e939b",
   "metadata": {},
   "outputs": [],
   "source": [
    "def config_inputs(data, nominal_variables=None, ordinal_variables=None):\n",
    "    if nominal_variables==None:\n",
    "        nominal_variables=['surface', 'tourney_name']#,'id']\n",
    "    if ordinal_variables==None:\n",
    "        ordinal_variables=['round','tourney_date','id']\n",
    "    for i in nominal_variables:\n",
    "        data=one_hot_codification(data, i)\n",
    "    for i in ordinal_variables:\n",
    "        data=ordinal_codification(data,i)\n",
    "\n",
    "    data.columns = [re.sub(r'(?<!^)(?=[A-Z])', '_', col).lower().replace(' ', '_') for col in data.columns.str.lower()]\n",
    "    return data"
   ]
  },
  {
   "cell_type": "code",
   "execution_count": 8,
   "id": "7d78be38",
   "metadata": {},
   "outputs": [
    {
     "name": "stderr",
     "output_type": "stream",
     "text": [
      "/tmp/ipykernel_136/3377404753.py:4: FutureWarning: In a future version, `df.iloc[:, i] = newvals` will attempt to set the values inplace instead of always setting a new array. To retain the old behavior, use either `df[df.columns[i]] = newvals` or, if columns are non-unique, `df.isetitem(i, newvals)`\n",
      "  data.loc[:,new_variables.columns]=new_variables\n",
      "/tmp/ipykernel_136/3377404753.py:4: FutureWarning: In a future version, `df.iloc[:, i] = newvals` will attempt to set the values inplace instead of always setting a new array. To retain the old behavior, use either `df[df.columns[i]] = newvals` or, if columns are non-unique, `df.isetitem(i, newvals)`\n",
      "  data.loc[:,new_variables.columns]=new_variables\n"
     ]
    }
   ],
   "source": [
    "df2=config_inputs(df)"
   ]
  },
  {
   "cell_type": "code",
   "execution_count": 9,
   "id": "70592498",
   "metadata": {},
   "outputs": [
    {
     "data": {
      "text/html": [
       "<div>\n",
       "<style scoped>\n",
       "    .dataframe tbody tr th:only-of-type {\n",
       "        vertical-align: middle;\n",
       "    }\n",
       "\n",
       "    .dataframe tbody tr th {\n",
       "        vertical-align: top;\n",
       "    }\n",
       "\n",
       "    .dataframe thead th {\n",
       "        text-align: right;\n",
       "    }\n",
       "</style>\n",
       "<table border=\"1\" class=\"dataframe\">\n",
       "  <thead>\n",
       "    <tr style=\"text-align: right;\">\n",
       "      <th></th>\n",
       "      <th>ht</th>\n",
       "      <th>wg</th>\n",
       "      <th>age</th>\n",
       "      <th>rank</th>\n",
       "      <th>minutes_played</th>\n",
       "      <th>pj</th>\n",
       "      <th>pg</th>\n",
       "      <th>pp</th>\n",
       "      <th>grass</th>\n",
       "      <th>hard</th>\n",
       "      <th>roland_garros</th>\n",
       "      <th>us_open</th>\n",
       "      <th>wimbledon</th>\n",
       "      <th>round_cod</th>\n",
       "      <th>tourney_date_cod</th>\n",
       "      <th>id_cod</th>\n",
       "    </tr>\n",
       "  </thead>\n",
       "  <tbody>\n",
       "    <tr>\n",
       "      <th>0</th>\n",
       "      <td>180.0</td>\n",
       "      <td>82.0</td>\n",
       "      <td>36</td>\n",
       "      <td>94.0</td>\n",
       "      <td>0.0</td>\n",
       "      <td>0.0</td>\n",
       "      <td>0.0</td>\n",
       "      <td>0.0</td>\n",
       "      <td>0</td>\n",
       "      <td>1</td>\n",
       "      <td>0</td>\n",
       "      <td>0</td>\n",
       "      <td>0</td>\n",
       "      <td>6.0</td>\n",
       "      <td>0.0</td>\n",
       "      <td>1.0</td>\n",
       "    </tr>\n",
       "    <tr>\n",
       "      <th>1</th>\n",
       "      <td>180.0</td>\n",
       "      <td>80.0</td>\n",
       "      <td>35</td>\n",
       "      <td>82.0</td>\n",
       "      <td>0.0</td>\n",
       "      <td>0.0</td>\n",
       "      <td>0.0</td>\n",
       "      <td>0.0</td>\n",
       "      <td>0</td>\n",
       "      <td>1</td>\n",
       "      <td>0</td>\n",
       "      <td>0</td>\n",
       "      <td>0</td>\n",
       "      <td>5.0</td>\n",
       "      <td>0.0</td>\n",
       "      <td>2.0</td>\n",
       "    </tr>\n",
       "    <tr>\n",
       "      <th>2</th>\n",
       "      <td>188.0</td>\n",
       "      <td>88.0</td>\n",
       "      <td>35</td>\n",
       "      <td>126.0</td>\n",
       "      <td>0.0</td>\n",
       "      <td>0.0</td>\n",
       "      <td>0.0</td>\n",
       "      <td>0.0</td>\n",
       "      <td>0</td>\n",
       "      <td>1</td>\n",
       "      <td>0</td>\n",
       "      <td>0</td>\n",
       "      <td>0</td>\n",
       "      <td>5.0</td>\n",
       "      <td>0.0</td>\n",
       "      <td>3.0</td>\n",
       "    </tr>\n",
       "    <tr>\n",
       "      <th>3</th>\n",
       "      <td>185.0</td>\n",
       "      <td>73.0</td>\n",
       "      <td>32</td>\n",
       "      <td>139.0</td>\n",
       "      <td>0.0</td>\n",
       "      <td>0.0</td>\n",
       "      <td>0.0</td>\n",
       "      <td>0.0</td>\n",
       "      <td>0</td>\n",
       "      <td>1</td>\n",
       "      <td>0</td>\n",
       "      <td>0</td>\n",
       "      <td>0</td>\n",
       "      <td>6.0</td>\n",
       "      <td>0.0</td>\n",
       "      <td>5.0</td>\n",
       "    </tr>\n",
       "    <tr>\n",
       "      <th>4</th>\n",
       "      <td>183.0</td>\n",
       "      <td>71.0</td>\n",
       "      <td>32</td>\n",
       "      <td>39.0</td>\n",
       "      <td>0.0</td>\n",
       "      <td>0.0</td>\n",
       "      <td>0.0</td>\n",
       "      <td>0.0</td>\n",
       "      <td>0</td>\n",
       "      <td>1</td>\n",
       "      <td>0</td>\n",
       "      <td>0</td>\n",
       "      <td>0</td>\n",
       "      <td>4.0</td>\n",
       "      <td>0.0</td>\n",
       "      <td>6.0</td>\n",
       "    </tr>\n",
       "  </tbody>\n",
       "</table>\n",
       "</div>"
      ],
      "text/plain": [
       "      ht    wg  age   rank  minutes_played   pj   pg   pp  grass  hard  \\\n",
       "0  180.0  82.0   36   94.0             0.0  0.0  0.0  0.0      0     1   \n",
       "1  180.0  80.0   35   82.0             0.0  0.0  0.0  0.0      0     1   \n",
       "2  188.0  88.0   35  126.0             0.0  0.0  0.0  0.0      0     1   \n",
       "3  185.0  73.0   32  139.0             0.0  0.0  0.0  0.0      0     1   \n",
       "4  183.0  71.0   32   39.0             0.0  0.0  0.0  0.0      0     1   \n",
       "\n",
       "   roland_garros  us_open  wimbledon  round_cod  tourney_date_cod  id_cod  \n",
       "0              0        0          0        6.0               0.0     1.0  \n",
       "1              0        0          0        5.0               0.0     2.0  \n",
       "2              0        0          0        5.0               0.0     3.0  \n",
       "3              0        0          0        6.0               0.0     5.0  \n",
       "4              0        0          0        4.0               0.0     6.0  "
      ]
     },
     "execution_count": 9,
     "metadata": {},
     "output_type": "execute_result"
    }
   ],
   "source": [
    "df2.head()"
   ]
  },
  {
   "cell_type": "code",
   "execution_count": 10,
   "id": "b112337f-d83e-4ada-9883-fcc65b9b760e",
   "metadata": {},
   "outputs": [],
   "source": [
    "def make_train_test_split(x, y, test_size = 0.25, random_state = 42):\n",
    "\n",
    "    (x_train, x_test, y_train, y_test) = train_test_split(\n",
    "        x,\n",
    "        y,\n",
    "        test_size=test_size,\n",
    "        random_state=random_state,\n",
    "    )\n",
    "    return x_train, x_test, y_train, y_test"
   ]
  },
  {
   "cell_type": "code",
   "execution_count": 16,
   "id": "1244fbc7-745f-4034-a27e-2a3a7f75e838",
   "metadata": {},
   "outputs": [],
   "source": [
    "def get_json_data(x, y):\n",
    "    \n",
    "    x_train, x_test, y_train, y_test = make_train_test_split(x=x, y=y)\n",
    "    \n",
    "    data = x_test.iloc[0:10, :].to_json(orient=\"split\")\n",
    "    \n",
    "    data = '\"dataframe_split\": ' + data + \"\"\n",
    "    data = \"'\" \"{\" + data + \"}\" + \"'\"\n",
    "    \n",
    "    return data\n",
    "    "
   ]
  },
  {
   "cell_type": "code",
   "execution_count": 17,
   "id": "02b10071-0402-429e-86cd-d2ff912716a5",
   "metadata": {},
   "outputs": [],
   "source": [
    "x=df2.drop(columns='round_cod')\n",
    "y=df2.round_cod"
   ]
  },
  {
   "cell_type": "code",
   "execution_count": 18,
   "id": "c897df2f-2d62-433e-9fb7-f955d6578c62",
   "metadata": {},
   "outputs": [],
   "source": [
    "data = get_json_data(x, y)"
   ]
  },
  {
   "cell_type": "code",
   "execution_count": 19,
   "id": "e7edc2d2-a243-4fb4-bf01-70dc9c12f871",
   "metadata": {},
   "outputs": [
    {
     "data": {
      "text/plain": [
       "'\\'{\"dataframe_split\": {\"columns\":[\"ht\",\"wg\",\"age\",\"rank\",\"minutes_played\",\"pj\",\"pg\",\"pp\",\"grass\",\"hard\",\"roland_garros\",\"us_open\",\"wimbledon\",\"tourney_date_cod\",\"id_cod\"],\"index\":[8644,1076,2970,2029,8543,6231,2420,8109,4845,3884],\"data\":[[183.0,75.0,28,193.0,578.0,4.0,1.0,3.0,1,0,0,0,1,66.0,544.0],[180.0,75.0,26,41.0,736.0,6.0,4.0,2.0,0,1,0,0,0,8.0,139.0],[178.0,76.0,29,62.0,279.0,2.0,0.0,2.0,1,0,0,0,1,22.0,129.0],[180.0,75.0,22,146.0,0.0,0.0,0.0,0.0,1,0,0,0,1,14.0,339.0],[185.0,71.0,25,47.0,0.0,0.0,0.0,0.0,0,1,0,1,0,67.0,621.0],[188.0,83.0,25,89.0,0.0,0.0,0.0,0.0,0,1,0,0,0,48.0,512.0],[193.0,82.0,20,307.0,0.0,0.0,0.0,0.0,0,1,0,1,0,19.0,420.0],[193.0,80.0,29,49.0,1193.0,11.0,5.0,6.0,1,0,0,0,1,62.0,479.0],[190.0,84.0,22,3.0,653.0,4.0,2.0,2.0,0,0,1,0,0,37.0,514.0],[180.0,68.0,27,146.0,0.0,0.0,0.0,0.0,0,1,0,1,0,31.0,284.0]]}}\\''"
      ]
     },
     "execution_count": 19,
     "metadata": {},
     "output_type": "execute_result"
    }
   ],
   "source": [
    "data"
   ]
  },
  {
   "cell_type": "code",
   "execution_count": 20,
   "id": "39c93522-b3c7-4069-9382-4c2907f40fcd",
   "metadata": {},
   "outputs": [
    {
     "name": "stdout",
     "output_type": "stream",
     "text": [
      "{\"predictions\": [6.0, 6.0, 6.0, 6.0, 6.0, 6.0, 5.0, 5.0, 3.0, 6.0]}"
     ]
    }
   ],
   "source": [
    "!curl http://127.0.0.1:5000/invocations -H 'Content-Type: application/json' -d {data}"
   ]
  },
  {
   "cell_type": "code",
   "execution_count": null,
   "id": "37528f33-c1e6-49e0-b9ed-6bee1e454f58",
   "metadata": {},
   "outputs": [],
   "source": []
  }
 ],
 "metadata": {
  "kernelspec": {
   "display_name": "Python 3 (ipykernel)",
   "language": "python",
   "name": "python3"
  },
  "language_info": {
   "codemirror_mode": {
    "name": "ipython",
    "version": 3
   },
   "file_extension": ".py",
   "mimetype": "text/x-python",
   "name": "python",
   "nbconvert_exporter": "python",
   "pygments_lexer": "ipython3",
   "version": "3.8.10"
  }
 },
 "nbformat": 4,
 "nbformat_minor": 5
}
