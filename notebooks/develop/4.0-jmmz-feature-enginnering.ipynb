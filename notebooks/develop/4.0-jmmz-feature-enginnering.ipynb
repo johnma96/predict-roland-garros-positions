{
 "cells": [
  {
   "cell_type": "code",
   "execution_count": null,
   "metadata": {},
   "outputs": [],
   "source": [
    "nombre, pj, pg, pp, socore, ranking, minutos_jugados, edad, titulos_ganados"
   ]
  }
 ],
 "metadata": {
  "language_info": {
   "name": "python"
  },
  "orig_nbformat": 4
 },
 "nbformat": 4,
 "nbformat_minor": 2
}
