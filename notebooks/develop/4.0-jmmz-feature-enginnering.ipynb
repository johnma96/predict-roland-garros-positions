{
 "cells": [
  {
   "cell_type": "code",
   "execution_count": null,
   "metadata": {},
   "outputs": [],
   "source": [
    "\n",
    "\n",
    "año, torneo, nombre, edad,altura, ranking_ATP_inicial, minutos_jugados_acumulado_hist, pj_acum_historicos, pg_acum_historico, pp_acum_historico, titulos_ganados_acum, ultima_modificacion, posicion_final, score\n",
    "2014,  roland_garros, rafa, 7, 1, 7, 0, sum(minutos), fijo, 6, clay, 1, 100, 2\n",
    "\n",
    "\n",
    "\n",
    "\n",
    "\n",
    "predecir 2015\n",
    "\n",
    "1 -> 32/32=1\n",
    "2 -> 31/32=0.99"
   ]
  }
 ],
 "metadata": {
  "kernelspec": {
   "display_name": ".venv",
   "language": "python",
   "name": "python3"
  },
  "language_info": {
   "name": "python",
   "version": "3.10.8"
  },
  "orig_nbformat": 4,
  "vscode": {
   "interpreter": {
    "hash": "dffb378cfcbe0516010cd3d57cbbd990b5eb36e7d2bbd9b040f205f65695b592"
   }
  }
 },
 "nbformat": 4,
 "nbformat_minor": 2
}
