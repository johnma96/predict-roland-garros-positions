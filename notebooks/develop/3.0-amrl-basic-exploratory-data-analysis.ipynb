{
 "cells": [
  {
   "cell_type": "code",
   "execution_count": null,
   "metadata": {},
   "outputs": [],
   "source": [
    "correlaciones"
   ]
  }
 ],
 "metadata": {
  "kernelspec": {
   "display_name": ".venv",
   "language": "python",
   "name": "python3"
  },
  "language_info": {
   "name": "python",
   "version": "3.10.8"
  },
  "orig_nbformat": 4,
  "vscode": {
   "interpreter": {
    "hash": "8cf9cdb65e4e40c1b302ac1c142839c4793eb690b9bbeb430d4671a8010b7b2d"
   }
  }
 },
 "nbformat": 4,
 "nbformat_minor": 2
}
