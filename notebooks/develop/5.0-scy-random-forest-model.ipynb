{
 "cells": [
  {
   "cell_type": "code",
   "execution_count": 2,
   "id": "910806ba",
   "metadata": {},
   "outputs": [],
   "source": [
    "import pyprojroot\n",
    "import sys\n",
    "\n",
    "package_path = pyprojroot.here().__str__()\n",
    "if package_path not in sys.path:\n",
    "    sys.path.append(package_path)"
   ]
  },
  {
   "cell_type": "code",
   "execution_count": 3,
   "id": "3baf70cc",
   "metadata": {},
   "outputs": [],
   "source": [
    "from utils import LoadData, AbsPaths"
   ]
  },
  {
   "cell_type": "code",
   "execution_count": 85,
   "id": "acf04ef7",
   "metadata": {},
   "outputs": [],
   "source": [
    "final_data='operational_rdbms.csv'\n",
    "df = LoadData().from_csv(file_name=final_data)\n",
    "df.loc[:,'tourney_name']=df.tourney_name.str.upper() ###AGREGAR A CALIDAD DE DATOS."
   ]
  },
  {
   "cell_type": "code",
   "execution_count": 115,
   "id": "b96e939b",
   "metadata": {},
   "outputs": [],
   "source": [
    "def config_inputs(data, nominal_variables=None, ordinal_variables=None):\n",
    "    if nominal_variables==None:\n",
    "        nominal_variables=['surface', 'tourney_name']#,'id']\n",
    "    if ordinal_variables==None:\n",
    "        ordinal_variables=['round','tourney_date','id']\n",
    "    for i in nominal_variables:\n",
    "        data=one_hot_codification(data, i)\n",
    "    for i in ordinal_variables:\n",
    "        data=ordinal_codification(data,i)\n",
    "    return data"
   ]
  },
  {
   "cell_type": "code",
   "execution_count": 116,
   "id": "315ba5f4",
   "metadata": {},
   "outputs": [],
   "source": [
    "def one_hot_codification(data:pd.DataFrame, variable:str):\n",
    "    \n",
    "    import pandas as pd\n",
    "    new_variables= pd.get_dummies(data[variable], drop_first=True)\n",
    "    data.loc[:,new_variables.columns]=new_variables\n",
    "    data=data.drop(columns=variable)\n",
    "    #data=pd.concat([data.drop(columns=variable),new_variables],axis=1)\n",
    "    return data"
   ]
  },
  {
   "cell_type": "code",
   "execution_count": 153,
   "id": "3cf69963",
   "metadata": {},
   "outputs": [],
   "source": [
    "def ordinal_codification(data:pd.DataFrame, variable:str):\n",
    "    import pandas as pd\n",
    "    import numpy as np\n",
    "\n",
    "    for i,j in enumerate(np.sort(df[variable].unique())):\n",
    "        data.loc[data[variable]==j,variable+'_Cod']=i\n",
    "    \n",
    "    data=data.drop(columns=variable)\n",
    "    return data"
   ]
  },
  {
   "cell_type": "code",
   "execution_count": 154,
   "id": "7d78be38",
   "metadata": {},
   "outputs": [
    {
     "name": "stderr",
     "output_type": "stream",
     "text": [
      "/var/folders/pj/k39rkm7n70zfpx2h1pd48nyh0000gn/T/ipykernel_86817/1217108403.py:5: DeprecationWarning: In a future version, `df.iloc[:, i] = newvals` will attempt to set the values inplace instead of always setting a new array. To retain the old behavior, use either `df[df.columns[i]] = newvals` or, if columns are non-unique, `df.isetitem(i, newvals)`\n",
      "  data.loc[:,new_variables.columns]=new_variables\n"
     ]
    }
   ],
   "source": [
    "df2=config_inputs(df)"
   ]
  },
  {
   "cell_type": "code",
   "execution_count": null,
   "id": "b2f5d86c",
   "metadata": {},
   "outputs": [],
   "source": []
  }
 ],
 "metadata": {
  "kernelspec": {
   "display_name": "Python 3 (ipykernel)",
   "language": "python",
   "name": "python3"
  },
  "language_info": {
   "codemirror_mode": {
    "name": "ipython",
    "version": 3
   },
   "file_extension": ".py",
   "mimetype": "text/x-python",
   "name": "python",
   "nbconvert_exporter": "python",
   "pygments_lexer": "ipython3",
   "version": "3.11.2"
  }
 },
 "nbformat": 4,
 "nbformat_minor": 5
}
