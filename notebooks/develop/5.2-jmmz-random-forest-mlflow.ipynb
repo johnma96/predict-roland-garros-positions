{
 "cells": [
  {
   "cell_type": "code",
   "execution_count": 2,
   "id": "910806ba",
   "metadata": {},
   "outputs": [],
   "source": [
    "import pyprojroot\n",
    "import sys\n",
    "\n",
    "package_path = pyprojroot.here().__str__()\n",
    "if package_path not in sys.path:\n",
    "    sys.path.append(package_path)"
   ]
  },
  {
   "cell_type": "code",
   "execution_count": 3,
   "id": "3baf70cc",
   "metadata": {},
   "outputs": [],
   "source": [
    "import re\n",
    "import os\n",
    "import pickle\n",
    "import mlflow\n",
    "import mlflow.sklearn\n",
    "\n",
    "import numpy as np\n",
    "import pandas as pd\n",
    "import matplotlib.pyplot as plt\n",
    "\n",
    "from utils import LoadData, AbsPaths\n",
    "\n",
    "from sklearn.metrics import roc_auc_score\n",
    "from sklearn.metrics import classification_report\n",
    "from sklearn.metrics import ConfusionMatrixDisplay\n",
    "from sklearn.ensemble import RandomForestClassifier\n",
    "from sklearn.model_selection import train_test_split\n",
    "from sklearn.model_selection import RandomizedSearchCV\n",
    "from sklearn.metrics import mean_absolute_error, mean_squared_error, r2_score"
   ]
  },
  {
   "cell_type": "markdown",
   "id": "a2ec732e",
   "metadata": {},
   "source": [
    "# Loading and prepare data"
   ]
  },
  {
   "cell_type": "code",
   "execution_count": 4,
   "id": "acf04ef7",
   "metadata": {},
   "outputs": [],
   "source": [
    "final_data='operational_rdbms.csv'\n",
    "df = LoadData().from_csv(file_name=final_data)\n",
    "df.loc[:,'tourney_name']=df.tourney_name.str.upper() ###AGREGAR A CALIDAD DE DATOS."
   ]
  },
  {
   "cell_type": "code",
   "execution_count": 5,
   "id": "d420e422",
   "metadata": {},
   "outputs": [
    {
     "data": {
      "text/html": [
       "<div>\n",
       "<style scoped>\n",
       "    .dataframe tbody tr th:only-of-type {\n",
       "        vertical-align: middle;\n",
       "    }\n",
       "\n",
       "    .dataframe tbody tr th {\n",
       "        vertical-align: top;\n",
       "    }\n",
       "\n",
       "    .dataframe thead th {\n",
       "        text-align: right;\n",
       "    }\n",
       "</style>\n",
       "<table border=\"1\" class=\"dataframe\">\n",
       "  <thead>\n",
       "    <tr style=\"text-align: right;\">\n",
       "      <th></th>\n",
       "      <th>tourney_date</th>\n",
       "      <th>tourney_name</th>\n",
       "      <th>surface</th>\n",
       "      <th>id</th>\n",
       "      <th>ht</th>\n",
       "      <th>wg</th>\n",
       "      <th>age</th>\n",
       "      <th>rank</th>\n",
       "      <th>minutes_played</th>\n",
       "      <th>pj</th>\n",
       "      <th>pg</th>\n",
       "      <th>pp</th>\n",
       "      <th>round</th>\n",
       "    </tr>\n",
       "  </thead>\n",
       "  <tbody>\n",
       "    <tr>\n",
       "      <th>0</th>\n",
       "      <td>2000-01-17</td>\n",
       "      <td>AUSTRALIAN OPEN</td>\n",
       "      <td>Hard</td>\n",
       "      <td>101086.0</td>\n",
       "      <td>180.0</td>\n",
       "      <td>82.0</td>\n",
       "      <td>36</td>\n",
       "      <td>94.0</td>\n",
       "      <td>0.0</td>\n",
       "      <td>0.0</td>\n",
       "      <td>0.0</td>\n",
       "      <td>0.0</td>\n",
       "      <td>128</td>\n",
       "    </tr>\n",
       "    <tr>\n",
       "      <th>1</th>\n",
       "      <td>2000-01-17</td>\n",
       "      <td>AUSTRALIAN OPEN</td>\n",
       "      <td>Hard</td>\n",
       "      <td>101150.0</td>\n",
       "      <td>180.0</td>\n",
       "      <td>80.0</td>\n",
       "      <td>35</td>\n",
       "      <td>82.0</td>\n",
       "      <td>0.0</td>\n",
       "      <td>0.0</td>\n",
       "      <td>0.0</td>\n",
       "      <td>0.0</td>\n",
       "      <td>64</td>\n",
       "    </tr>\n",
       "    <tr>\n",
       "      <th>2</th>\n",
       "      <td>2000-01-17</td>\n",
       "      <td>AUSTRALIAN OPEN</td>\n",
       "      <td>Hard</td>\n",
       "      <td>101185.0</td>\n",
       "      <td>188.0</td>\n",
       "      <td>88.0</td>\n",
       "      <td>35</td>\n",
       "      <td>126.0</td>\n",
       "      <td>0.0</td>\n",
       "      <td>0.0</td>\n",
       "      <td>0.0</td>\n",
       "      <td>0.0</td>\n",
       "      <td>64</td>\n",
       "    </tr>\n",
       "    <tr>\n",
       "      <th>3</th>\n",
       "      <td>2000-01-17</td>\n",
       "      <td>AUSTRALIAN OPEN</td>\n",
       "      <td>Hard</td>\n",
       "      <td>101463.0</td>\n",
       "      <td>185.0</td>\n",
       "      <td>73.0</td>\n",
       "      <td>32</td>\n",
       "      <td>139.0</td>\n",
       "      <td>0.0</td>\n",
       "      <td>0.0</td>\n",
       "      <td>0.0</td>\n",
       "      <td>0.0</td>\n",
       "      <td>128</td>\n",
       "    </tr>\n",
       "    <tr>\n",
       "      <th>4</th>\n",
       "      <td>2000-01-17</td>\n",
       "      <td>AUSTRALIAN OPEN</td>\n",
       "      <td>Hard</td>\n",
       "      <td>101532.0</td>\n",
       "      <td>183.0</td>\n",
       "      <td>71.0</td>\n",
       "      <td>32</td>\n",
       "      <td>39.0</td>\n",
       "      <td>0.0</td>\n",
       "      <td>0.0</td>\n",
       "      <td>0.0</td>\n",
       "      <td>0.0</td>\n",
       "      <td>32</td>\n",
       "    </tr>\n",
       "  </tbody>\n",
       "</table>\n",
       "</div>"
      ],
      "text/plain": [
       "  tourney_date     tourney_name surface        id     ht    wg  age   rank  \\\n",
       "0   2000-01-17  AUSTRALIAN OPEN    Hard  101086.0  180.0  82.0   36   94.0   \n",
       "1   2000-01-17  AUSTRALIAN OPEN    Hard  101150.0  180.0  80.0   35   82.0   \n",
       "2   2000-01-17  AUSTRALIAN OPEN    Hard  101185.0  188.0  88.0   35  126.0   \n",
       "3   2000-01-17  AUSTRALIAN OPEN    Hard  101463.0  185.0  73.0   32  139.0   \n",
       "4   2000-01-17  AUSTRALIAN OPEN    Hard  101532.0  183.0  71.0   32   39.0   \n",
       "\n",
       "   minutes_played   pj   pg   pp  round  \n",
       "0             0.0  0.0  0.0  0.0    128  \n",
       "1             0.0  0.0  0.0  0.0     64  \n",
       "2             0.0  0.0  0.0  0.0     64  \n",
       "3             0.0  0.0  0.0  0.0    128  \n",
       "4             0.0  0.0  0.0  0.0     32  "
      ]
     },
     "execution_count": 5,
     "metadata": {},
     "output_type": "execute_result"
    }
   ],
   "source": [
    "df.head()"
   ]
  },
  {
   "cell_type": "code",
   "execution_count": 6,
   "id": "2f140555",
   "metadata": {},
   "outputs": [],
   "source": [
    "def one_hot_codification(data:pd.DataFrame, variable:str):\n",
    "\n",
    "    new_variables= pd.get_dummies(data[variable], drop_first=True)\n",
    "    data.loc[:,new_variables.columns]=new_variables\n",
    "    data=data.drop(columns=variable)\n",
    "    #data=pd.concat([data.drop(columns=variable),new_variables],axis=1)\n",
    "    return data"
   ]
  },
  {
   "cell_type": "code",
   "execution_count": 7,
   "id": "e2f4630e",
   "metadata": {},
   "outputs": [],
   "source": [
    "def ordinal_codification(data:pd.DataFrame, variable:str):\n",
    "\n",
    "    for i,j in enumerate(np.sort(df[variable].unique())):\n",
    "        data.loc[data[variable]==j,variable+'_cod']=i\n",
    "    \n",
    "    data=data.drop(columns=variable)\n",
    "    return data"
   ]
  },
  {
   "cell_type": "code",
   "execution_count": 8,
   "id": "b96e939b",
   "metadata": {},
   "outputs": [],
   "source": [
    "def config_inputs(data, nominal_variables=None, ordinal_variables=None):\n",
    "    if nominal_variables==None:\n",
    "        nominal_variables=['surface', 'tourney_name']#,'id']\n",
    "    if ordinal_variables==None:\n",
    "        ordinal_variables=['round','tourney_date','id']\n",
    "    for i in nominal_variables:\n",
    "        data=one_hot_codification(data, i)\n",
    "    for i in ordinal_variables:\n",
    "        data=ordinal_codification(data,i)\n",
    "\n",
    "    data.columns = [re.sub(r'(?<!^)(?=[A-Z])', '_', col).lower().replace(' ', '_') for col in data.columns.str.lower()]\n",
    "    return data"
   ]
  },
  {
   "cell_type": "code",
   "execution_count": 9,
   "id": "7d78be38",
   "metadata": {},
   "outputs": [
    {
     "name": "stderr",
     "output_type": "stream",
     "text": [
      "/tmp/ipykernel_213/3377404753.py:4: FutureWarning: In a future version, `df.iloc[:, i] = newvals` will attempt to set the values inplace instead of always setting a new array. To retain the old behavior, use either `df[df.columns[i]] = newvals` or, if columns are non-unique, `df.isetitem(i, newvals)`\n",
      "  data.loc[:,new_variables.columns]=new_variables\n",
      "/tmp/ipykernel_213/3377404753.py:4: FutureWarning: In a future version, `df.iloc[:, i] = newvals` will attempt to set the values inplace instead of always setting a new array. To retain the old behavior, use either `df[df.columns[i]] = newvals` or, if columns are non-unique, `df.isetitem(i, newvals)`\n",
      "  data.loc[:,new_variables.columns]=new_variables\n"
     ]
    }
   ],
   "source": [
    "df2=config_inputs(df)"
   ]
  },
  {
   "cell_type": "code",
   "execution_count": 10,
   "id": "70592498",
   "metadata": {},
   "outputs": [
    {
     "data": {
      "text/html": [
       "<div>\n",
       "<style scoped>\n",
       "    .dataframe tbody tr th:only-of-type {\n",
       "        vertical-align: middle;\n",
       "    }\n",
       "\n",
       "    .dataframe tbody tr th {\n",
       "        vertical-align: top;\n",
       "    }\n",
       "\n",
       "    .dataframe thead th {\n",
       "        text-align: right;\n",
       "    }\n",
       "</style>\n",
       "<table border=\"1\" class=\"dataframe\">\n",
       "  <thead>\n",
       "    <tr style=\"text-align: right;\">\n",
       "      <th></th>\n",
       "      <th>ht</th>\n",
       "      <th>wg</th>\n",
       "      <th>age</th>\n",
       "      <th>rank</th>\n",
       "      <th>minutes_played</th>\n",
       "      <th>pj</th>\n",
       "      <th>pg</th>\n",
       "      <th>pp</th>\n",
       "      <th>grass</th>\n",
       "      <th>hard</th>\n",
       "      <th>roland_garros</th>\n",
       "      <th>us_open</th>\n",
       "      <th>wimbledon</th>\n",
       "      <th>round_cod</th>\n",
       "      <th>tourney_date_cod</th>\n",
       "      <th>id_cod</th>\n",
       "    </tr>\n",
       "  </thead>\n",
       "  <tbody>\n",
       "    <tr>\n",
       "      <th>0</th>\n",
       "      <td>180.0</td>\n",
       "      <td>82.0</td>\n",
       "      <td>36</td>\n",
       "      <td>94.0</td>\n",
       "      <td>0.0</td>\n",
       "      <td>0.0</td>\n",
       "      <td>0.0</td>\n",
       "      <td>0.0</td>\n",
       "      <td>0</td>\n",
       "      <td>1</td>\n",
       "      <td>0</td>\n",
       "      <td>0</td>\n",
       "      <td>0</td>\n",
       "      <td>6.0</td>\n",
       "      <td>0.0</td>\n",
       "      <td>1.0</td>\n",
       "    </tr>\n",
       "    <tr>\n",
       "      <th>1</th>\n",
       "      <td>180.0</td>\n",
       "      <td>80.0</td>\n",
       "      <td>35</td>\n",
       "      <td>82.0</td>\n",
       "      <td>0.0</td>\n",
       "      <td>0.0</td>\n",
       "      <td>0.0</td>\n",
       "      <td>0.0</td>\n",
       "      <td>0</td>\n",
       "      <td>1</td>\n",
       "      <td>0</td>\n",
       "      <td>0</td>\n",
       "      <td>0</td>\n",
       "      <td>5.0</td>\n",
       "      <td>0.0</td>\n",
       "      <td>2.0</td>\n",
       "    </tr>\n",
       "    <tr>\n",
       "      <th>2</th>\n",
       "      <td>188.0</td>\n",
       "      <td>88.0</td>\n",
       "      <td>35</td>\n",
       "      <td>126.0</td>\n",
       "      <td>0.0</td>\n",
       "      <td>0.0</td>\n",
       "      <td>0.0</td>\n",
       "      <td>0.0</td>\n",
       "      <td>0</td>\n",
       "      <td>1</td>\n",
       "      <td>0</td>\n",
       "      <td>0</td>\n",
       "      <td>0</td>\n",
       "      <td>5.0</td>\n",
       "      <td>0.0</td>\n",
       "      <td>3.0</td>\n",
       "    </tr>\n",
       "    <tr>\n",
       "      <th>3</th>\n",
       "      <td>185.0</td>\n",
       "      <td>73.0</td>\n",
       "      <td>32</td>\n",
       "      <td>139.0</td>\n",
       "      <td>0.0</td>\n",
       "      <td>0.0</td>\n",
       "      <td>0.0</td>\n",
       "      <td>0.0</td>\n",
       "      <td>0</td>\n",
       "      <td>1</td>\n",
       "      <td>0</td>\n",
       "      <td>0</td>\n",
       "      <td>0</td>\n",
       "      <td>6.0</td>\n",
       "      <td>0.0</td>\n",
       "      <td>5.0</td>\n",
       "    </tr>\n",
       "    <tr>\n",
       "      <th>4</th>\n",
       "      <td>183.0</td>\n",
       "      <td>71.0</td>\n",
       "      <td>32</td>\n",
       "      <td>39.0</td>\n",
       "      <td>0.0</td>\n",
       "      <td>0.0</td>\n",
       "      <td>0.0</td>\n",
       "      <td>0.0</td>\n",
       "      <td>0</td>\n",
       "      <td>1</td>\n",
       "      <td>0</td>\n",
       "      <td>0</td>\n",
       "      <td>0</td>\n",
       "      <td>4.0</td>\n",
       "      <td>0.0</td>\n",
       "      <td>6.0</td>\n",
       "    </tr>\n",
       "  </tbody>\n",
       "</table>\n",
       "</div>"
      ],
      "text/plain": [
       "      ht    wg  age   rank  minutes_played   pj   pg   pp  grass  hard  \\\n",
       "0  180.0  82.0   36   94.0             0.0  0.0  0.0  0.0      0     1   \n",
       "1  180.0  80.0   35   82.0             0.0  0.0  0.0  0.0      0     1   \n",
       "2  188.0  88.0   35  126.0             0.0  0.0  0.0  0.0      0     1   \n",
       "3  185.0  73.0   32  139.0             0.0  0.0  0.0  0.0      0     1   \n",
       "4  183.0  71.0   32   39.0             0.0  0.0  0.0  0.0      0     1   \n",
       "\n",
       "   roland_garros  us_open  wimbledon  round_cod  tourney_date_cod  id_cod  \n",
       "0              0        0          0        6.0               0.0     1.0  \n",
       "1              0        0          0        5.0               0.0     2.0  \n",
       "2              0        0          0        5.0               0.0     3.0  \n",
       "3              0        0          0        6.0               0.0     5.0  \n",
       "4              0        0          0        4.0               0.0     6.0  "
      ]
     },
     "execution_count": 10,
     "metadata": {},
     "output_type": "execute_result"
    }
   ],
   "source": [
    "df2.head()"
   ]
  },
  {
   "cell_type": "markdown",
   "id": "496ade1e",
   "metadata": {},
   "source": [
    "# Training model"
   ]
  },
  {
   "cell_type": "code",
   "execution_count": 11,
   "id": "d54d1840",
   "metadata": {},
   "outputs": [],
   "source": [
    "def make_train_test_split(x, y, test_size = 0.25, random_state = 42):\n",
    "\n",
    "    (x_train, x_test, y_train, y_test) = train_test_split(\n",
    "        x,\n",
    "        y,\n",
    "        test_size=test_size,\n",
    "        random_state=random_state,\n",
    "    )\n",
    "    return x_train, x_test, y_train, y_test"
   ]
  },
  {
   "cell_type": "code",
   "execution_count": 12,
   "id": "3ef04b7b",
   "metadata": {},
   "outputs": [],
   "source": [
    "def eval_metrics(y_true, y_pred, y_preb_probs, \n",
    "                 labels = None):\n",
    "\n",
    "    class_report = classification_report(y_true, y_pred, labels=labels)\n",
    "    roc_auc_score_ = roc_auc_score(y_true, y_preb_probs, average=\"weighted\", multi_class=\"ovr\")\n",
    "    print(roc_auc_score)\n",
    "    mse = mean_squared_error(y_true, y_pred)\n",
    "    mae = mean_absolute_error(y_true, y_pred)\n",
    "    r2 = r2_score(y_true, y_pred)\n",
    "    \n",
    "    return class_report, roc_auc_score_, mse, mae, r2\n"
   ]
  },
  {
   "cell_type": "code",
   "execution_count": 13,
   "id": "d19fca24",
   "metadata": {},
   "outputs": [],
   "source": [
    "def report(estimator, class_report, roc_auc_score_, mse, mae, r2):\n",
    "    print(estimator, \":\", sep=\"\")\n",
    "    print(f\"Classification report: \\n {class_report}\")\n",
    "    print(f\"  ROC AUC score: {roc_auc_score_}\")\n",
    "    print(f\"  MSE: {mse}\")\n",
    "    print(f\"  MAE: {mae}\")\n",
    "    print(f\"  R2: {r2}\")\n"
   ]
  },
  {
   "cell_type": "code",
   "execution_count": 16,
   "id": "ca0892d7",
   "metadata": {},
   "outputs": [],
   "source": [
    "# -----------------------------------------------------------------------------\n",
    "# Ya no se requiere con MLflow\n",
    "# -----------------------------------------------------------------------------\n",
    "# def save_best_estimator(estimator, \n",
    "#                         estimator_name='estimator.pkl',\n",
    "#                         models_path=None \n",
    "#                         ):\n",
    "\n",
    "#     if models_path is None:\n",
    "#         try:\n",
    "#             models_path = AbsPaths().get_abs_path_folder('models')\n",
    "#         except:\n",
    "#             models_path = AbsPaths().parent_path+os.sep+'models'\n",
    "#             os.makedirs(models_path)\n",
    "\n",
    "#     with open(models_path+estimator_name, \"wb\") as file:\n",
    "#         pickle.dump(estimator, file)"
   ]
  },
  {
   "cell_type": "code",
   "execution_count": 17,
   "id": "abcddc1d",
   "metadata": {},
   "outputs": [],
   "source": [
    "# -----------------------------------------------------------------------------\n",
    "# Ya no se requiere con MLflow\n",
    "# -----------------------------------------------------------------------------\n",
    "\n",
    "# def load_best_estimator(estimator_name='estimator.pkl'):\n",
    "#     try:\n",
    "#         estimator_path = AbsPaths().get_abs_path_file(estimator_name)\n",
    "#     except:\n",
    "#         return None\n",
    "    \n",
    "#     with open(estimator_path, 'rb') as fp:\n",
    "#         estimator = pickle.load(fp)\n",
    "#         return estimator\n"
   ]
  },
  {
   "cell_type": "markdown",
   "id": "23629403-4279-41ca-a368-d5ef7fa7ccfe",
   "metadata": {},
   "source": [
    "# 1. Reutilizar el codigo del modelo y registrarlo en MLFlow"
   ]
  },
  {
   "cell_type": "markdown",
   "id": "3d4207fc-7f0b-4b0c-aebe-41a68b074d21",
   "metadata": {},
   "source": [
    "## Make experiments tracking models with mlflow"
   ]
  },
  {
   "cell_type": "code",
   "execution_count": 14,
   "id": "7be47684-3277-4235-b276-9f7ea05052a2",
   "metadata": {},
   "outputs": [],
   "source": [
    "def make_experiment(x, y,\n",
    "                    experiment_name, \n",
    "                    param_grid,\n",
    "                    directory_name = 'mlruns',\n",
    "                    n_iter=5, \n",
    "                    n_splits=5, \n",
    "                    verbose=1, \n",
    "                    path_img=None, \n",
    "                    class_names=None):\n",
    "\n",
    "    import mlflow\n",
    "    import mlflow.sklearn\n",
    "\n",
    "    x_train, x_test, y_train, y_test = make_train_test_split(x=x, y=y)\n",
    "\n",
    "    estimator = RandomizedSearchCV(\n",
    "        estimator=RandomForestClassifier(\n",
    "            random_state = 42,\n",
    "        ),\n",
    "        param_distributions = param_grid,\n",
    "        n_iter = n_iter,\n",
    "        cv = n_splits,\n",
    "        refit = True,\n",
    "        verbose = 0 \n",
    "    )\n",
    "\n",
    "    #\n",
    "    # Establece el directorio de tracking. Esta es la dirección absoluta al\n",
    "    # directorio actual en este ejemplo.\n",
    "    #\n",
    "\n",
    "    try:\n",
    "        print('try')\n",
    "        mlruns_path = AbsPaths().get_abs_path_folder(f'{directory_name}')\n",
    "        print(mlruns_path)\n",
    "    except:\n",
    "        print('except')\n",
    "        models_path = AbsPaths().get_abs_path_folder('models')\n",
    "        mlruns_path = models_path+f'{directory_name}'\n",
    "        os.makedirs(mlruns_path)\n",
    "        print(mlruns_path)\n",
    "        \n",
    "    print(mlruns_path)\n",
    "    mlflow.set_tracking_uri(f\"file:{os.sep}{os.sep}{mlruns_path}\")\n",
    "    print(\"Tracking directory:\", mlflow.get_tracking_uri())\n",
    "\n",
    "\n",
    "    #\n",
    "    # Autotracking\n",
    "    #\n",
    "    mlflow.sklearn.autolog(\n",
    "        log_input_examples=False,\n",
    "        log_model_signatures=True,\n",
    "        log_models=True,\n",
    "        disable=False,\n",
    "        exclusive=False,\n",
    "        disable_for_unsupported_versions=False,\n",
    "        silent=False,\n",
    "        max_tuning_runs=10,\n",
    "        log_post_training_metrics=True,\n",
    "        serialization_format=\"cloudpickle\",\n",
    "        registered_model_name=None,\n",
    "    )\n",
    "\n",
    "    #\n",
    "    # Almancena las corridas  en el experimento indicado\n",
    "    #\n",
    "    mlflow.set_experiment(experiment_name)\n",
    "\n",
    "    with mlflow.start_run() as run:\n",
    "\n",
    "        run = mlflow.active_run()\n",
    "        print(\"Active run_id: {}\".format(run.info.run_id))\n",
    "\n",
    "        estimator.fit(x_train, y_train)\n",
    "\n",
    "        #\n",
    "        # Reporta el mejor modelo encontrado en la corrida\n",
    "        #\n",
    "        estimator = estimator.best_estimator_\n",
    "        class_report, roc_auc_score_, mse, mae, r2 = eval_metrics(y_true=y_test,\n",
    "                                                              y_pred=estimator.predict(x_test),\n",
    "                                                              y_preb_probs=estimator.predict_proba(x_test))\n",
    "        if verbose > 0 :\n",
    "            report(estimator, class_report, roc_auc_score_, mse, mae, r2)\n",
    "\n",
    "        if class_names is None:\n",
    "            class_names = y_train.unique()\n",
    "\n",
    "        # Confusion matrix\n",
    "        disp = ConfusionMatrixDisplay.from_estimator(\n",
    "            estimator,\n",
    "            x_test,\n",
    "            y_test,\n",
    "            display_labels=class_names,\n",
    "            cmap=plt.cm.Blues,\n",
    "            normalize=None,\n",
    "            )\n",
    "\n",
    "        if path_img is None:\n",
    "            try:\n",
    "                path_img=AbsPaths().get_abs_path_folder(folder_name='figures')\n",
    "                if isinstance(path_img, list):\n",
    "                    path_img = path_img[0]\n",
    "            except:\n",
    "                path_img = AbsPaths().parent_path+os.sep+'figures'\n",
    "                os.makedirs(path_img)\n",
    "\n",
    "        plt.savefig(path_img + 'confusion_matrix.png')\n",
    "        plt.show()\n",
    "\n",
    "        # Log some metrics\n",
    "        mlflow.log_metric('roc_auc_score', roc_auc_score_)\n",
    "        mlflow.log_metric(\"mse\", mse)\n",
    "        mlflow.log_metric(\"mae\", mae)\n",
    "        mlflow.log_metric(\"r2\", r2)\n",
    "\n",
    "\n",
    "        # Log an artifac\n",
    "        plain_text_path = AbsPaths().get_abs_path_folder('plain-text')\n",
    "        with open(plain_text_path+'evaluation.txt', \"w\") as f:\n",
    "            print(class_report, file=f)\n",
    "\n",
    "        mlflow.log_artifacts(plain_text_path)\n",
    "        mlflow.log_artifact(AbsPaths().get_abs_path_folder('figures'))"
   ]
  },
  {
   "cell_type": "code",
   "execution_count": 15,
   "id": "3b34b0a0-6917-4e5b-869c-e818eb8e5cf2",
   "metadata": {},
   "outputs": [],
   "source": [
    "param_grid = { \n",
    "    'n_estimators': [200, 250, 500],\n",
    "    # 'max_features': ['sqrt', 'log2'],\n",
    "    # 'min_samples_split': np.arange(2,16,2),\n",
    "    'max_depth' : np.arange(1,28,4),\n",
    "    'criterion' :['gini', 'entropy','log_loss'],\n",
    "    'class_weight':['balanced', 'balanced_subsample']\n",
    "}"
   ]
  },
  {
   "cell_type": "code",
   "execution_count": 16,
   "id": "cea833da-6f0c-49ea-a638-9782b2c75c09",
   "metadata": {},
   "outputs": [
    {
     "data": {
      "text/plain": [
       "['R-1', 'R-2', 'R-4', 'R-16', 'R-32', 'R-64', 'R-128']"
      ]
     },
     "execution_count": 16,
     "metadata": {},
     "output_type": "execute_result"
    }
   ],
   "source": [
    "class_names=list(map(lambda x: 'R-'+str(x) , list(sorted(set(df['round'])))))\n",
    "class_names"
   ]
  },
  {
   "cell_type": "code",
   "execution_count": 153,
   "id": "ad88e03e-5fea-4bf7-886f-a46cb30cd5be",
   "metadata": {},
   "outputs": [
    {
     "name": "stdout",
     "output_type": "stream",
     "text": [
      "try\n",
      "/workspace/models/corridas2/\n",
      "/workspace/models/corridas2/\n",
      "Tracking directory: file:///workspace/models/corridas2/\n",
      "Active run_id: 8e122d66205b4e7c8c505e8aaf4ba738\n"
     ]
    },
    {
     "name": "stderr",
     "output_type": "stream",
     "text": [
      "2023/03/23 16:40:22 WARNING mlflow.utils.autologging_utils: MLflow autologging encountered a warning: \"/usr/local/lib/python3.8/dist-packages/mlflow/models/signature.py:130: UserWarning: Hint: Inferred schema contains integer column(s). Integer columns in Python cannot represent missing values. If your input data contains missing values at inference time, it will be encoded as floats and will cause a schema enforcement error. The best way to avoid this problem is to infer the model schema based on a realistic data sample (training dataset) that includes missing values. Alternatively, you can declare integer columns as doubles (float64) whenever these columns may have missing values. See `Handling Integers With Missing Values <https://www.mlflow.org/docs/latest/models.html#handling-integers-with-missing-values>`_ for more details.\"\n",
      "2023/03/23 16:40:28 INFO mlflow.sklearn.utils: Logging the 10 best runs, no runs will be omitted.\n"
     ]
    },
    {
     "name": "stdout",
     "output_type": "stream",
     "text": [
      "<function roc_auc_score at 0x7fcbfe995550>\n",
      "RandomForestClassifier(class_weight='balanced', criterion='entropy',\n",
      "                       max_depth=17, n_estimators=250, random_state=42):\n",
      "Classification report: \n",
      "               precision    recall  f1-score   support\n",
      "\n",
      "         0.0       0.43      0.36      0.39        36\n",
      "         1.0       0.07      0.03      0.04        37\n",
      "         2.0       0.08      0.04      0.05        74\n",
      "         3.0       0.16      0.12      0.14       117\n",
      "         4.0       0.25      0.15      0.19       258\n",
      "         5.0       0.27      0.11      0.15       544\n",
      "         6.0       0.59      0.86      0.70      1142\n",
      "\n",
      "    accuracy                           0.50      2208\n",
      "   macro avg       0.26      0.24      0.24      2208\n",
      "weighted avg       0.42      0.50      0.44      2208\n",
      "\n",
      "  ROC AUC score: 0.655475513657941\n",
      "  MSE: 1.6440217391304348\n",
      "  MAE: 0.7771739130434783\n",
      "  R2: 0.09734522842063353\n"
     ]
    },
    {
     "data": {
      "image/png": "[encoded data removed]",
      "text/plain": [
       "<Figure size 640x480 with 2 Axes>"
      ]
     },
     "metadata": {},
     "output_type": "display_data"
    }
   ],
   "source": [
    "x=df2.drop(columns='round_cod')\n",
    "y=df2.round_cod\n",
    "\n",
    "make_experiment(x, y,\n",
    "    directory_name='corridas2',\n",
    "    experiment_name='saint-seiya',\n",
    "    param_grid=param_grid,\n",
    "    class_names=class_names,\n",
    ")"
   ]
  },
  {
   "cell_type": "code",
   "execution_count": 155,
   "id": "f3bbceea-5fed-46e2-9140-bb25267a1825",
   "metadata": {},
   "outputs": [
    {
     "name": "stdout",
     "output_type": "stream",
     "text": [
      "try\n"
     ]
    },
    {
     "name": "stderr",
     "output_type": "stream",
     "text": [
      "2023/03/23 16:42:35 INFO mlflow.tracking.fluent: Experiment with name 'inuyasha' does not exist. Creating a new experiment.\n"
     ]
    },
    {
     "name": "stdout",
     "output_type": "stream",
     "text": [
      "/workspace/models/corridas2/\n",
      "/workspace/models/corridas2/\n",
      "Tracking directory: file:///workspace/models/corridas2/\n",
      "Active run_id: 59e7087638c34526947b17b0094e38cb\n"
     ]
    },
    {
     "name": "stderr",
     "output_type": "stream",
     "text": [
      "2023/03/23 16:43:31 WARNING mlflow.utils.autologging_utils: MLflow autologging encountered a warning: \"/usr/local/lib/python3.8/dist-packages/mlflow/models/signature.py:130: UserWarning: Hint: Inferred schema contains integer column(s). Integer columns in Python cannot represent missing values. If your input data contains missing values at inference time, it will be encoded as floats and will cause a schema enforcement error. The best way to avoid this problem is to infer the model schema based on a realistic data sample (training dataset) that includes missing values. Alternatively, you can declare integer columns as doubles (float64) whenever these columns may have missing values. See `Handling Integers With Missing Values <https://www.mlflow.org/docs/latest/models.html#handling-integers-with-missing-values>`_ for more details.\"\n",
      "2023/03/23 16:43:37 INFO mlflow.sklearn.utils: Logging the 10 best runs, no runs will be omitted.\n"
     ]
    },
    {
     "name": "stdout",
     "output_type": "stream",
     "text": [
      "<function roc_auc_score at 0x7fcbfe995550>\n",
      "RandomForestClassifier(class_weight='balanced_subsample', criterion='entropy',\n",
      "                       max_depth=17, n_estimators=200, random_state=42):\n",
      "Classification report: \n",
      "               precision    recall  f1-score   support\n",
      "\n",
      "         0.0       0.43      0.36      0.39        36\n",
      "         1.0       0.08      0.03      0.04        37\n",
      "         2.0       0.10      0.05      0.07        74\n",
      "         3.0       0.12      0.08      0.09       117\n",
      "         4.0       0.25      0.16      0.20       258\n",
      "         5.0       0.24      0.10      0.14       544\n",
      "         6.0       0.59      0.85      0.70      1142\n",
      "\n",
      "    accuracy                           0.50      2208\n",
      "   macro avg       0.26      0.23      0.23      2208\n",
      "weighted avg       0.41      0.50      0.43      2208\n",
      "\n",
      "  ROC AUC score: 0.659216110937348\n",
      "  MSE: 1.723731884057971\n",
      "  MAE: 0.7989130434782609\n",
      "  R2: 0.05358014858648241\n"
     ]
    },
    {
     "data": {
      "image/png": "[encoded data removed]",
      "text/plain": [
       "<Figure size 640x480 with 2 Axes>"
      ]
     },
     "metadata": {},
     "output_type": "display_data"
    }
   ],
   "source": [
    "x=df2.drop(['round_cod', 'id_cod'], axis=1)\n",
    "y=df2['round_cod']\n",
    "\n",
    "\n",
    "make_experiment(x, y,\n",
    "    directory_name='corridas2',\n",
    "    experiment_name='inuyasha',\n",
    "    param_grid=param_grid,\n",
    "    class_names=class_names,\n",
    ")"
   ]
  },
  {
   "cell_type": "markdown",
   "id": "27ca6aa3-2d53-4881-8915-731f1d284045",
   "metadata": {},
   "source": [
    "# 2. Cambiar stage de modelo a productivo (PANTALLAZOS)"
   ]
  },
  {
   "cell_type": "markdown",
   "id": "02add041-4f44-4ad9-ba8a-d6dd2cbae26c",
   "metadata": {},
   "source": [
    "# 3. Consumir modelo como REST API"
   ]
  },
  {
   "cell_type": "markdown",
   "id": "a98cc87a-a04d-42c7-bf6f-5dac73172834",
   "metadata": {},
   "source": [
    "## Correr modelo como servidor (Pantallazo)"
   ]
  },
  {
   "cell_type": "code",
   "execution_count": 19,
   "id": "a85e0d06-a1fc-4929-a315-4089897f115f",
   "metadata": {},
   "outputs": [],
   "source": [
    "def get_json_data(x, y):\n",
    "    \n",
    "    x_train, x_test, y_train, y_test = make_train_test_split(x=x, y=y)\n",
    "    \n",
    "    data = x_test.iloc[0:10, :].to_json(orient=\"split\")\n",
    "    \n",
    "    data = '\"dataframe_split\": ' + data + \"\"\n",
    "    data = \"'\" \"{\" + data + \"}\" + \"'\"\n",
    "    \n",
    "    return data"
   ]
  },
  {
   "cell_type": "code",
   "execution_count": 21,
   "id": "8e8f9e5e-2a37-457d-b9b2-9a33dca7ac13",
   "metadata": {},
   "outputs": [
    {
     "data": {
      "text/plain": [
       "'\\'{\"dataframe_split\": {\"columns\":[\"ht\",\"wg\",\"age\",\"rank\",\"minutes_played\",\"pj\",\"pg\",\"pp\",\"grass\",\"hard\",\"roland_garros\",\"us_open\",\"wimbledon\",\"tourney_date_cod\",\"id_cod\"],\"index\":[8644,1076,2970,2029,8543,6231,2420,8109,4845,3884],\"data\":[[183.0,75.0,28,193.0,578.0,4.0,1.0,3.0,1,0,0,0,1,66.0,544.0],[180.0,75.0,26,41.0,736.0,6.0,4.0,2.0,0,1,0,0,0,8.0,139.0],[178.0,76.0,29,62.0,279.0,2.0,0.0,2.0,1,0,0,0,1,22.0,129.0],[180.0,75.0,22,146.0,0.0,0.0,0.0,0.0,1,0,0,0,1,14.0,339.0],[185.0,71.0,25,47.0,0.0,0.0,0.0,0.0,0,1,0,1,0,67.0,621.0],[188.0,83.0,25,89.0,0.0,0.0,0.0,0.0,0,1,0,0,0,48.0,512.0],[193.0,82.0,20,307.0,0.0,0.0,0.0,0.0,0,1,0,1,0,19.0,420.0],[193.0,80.0,29,49.0,1193.0,11.0,5.0,6.0,1,0,0,0,1,62.0,479.0],[190.0,84.0,22,3.0,653.0,4.0,2.0,2.0,0,0,1,0,0,37.0,514.0],[180.0,68.0,27,146.0,0.0,0.0,0.0,0.0,0,1,0,1,0,31.0,284.0]]}}\\''"
      ]
     },
     "execution_count": 21,
     "metadata": {},
     "output_type": "execute_result"
    }
   ],
   "source": [
    "x=df2.drop(columns='round_cod')\n",
    "y=df2.round_cod\n",
    "data = get_json_data(x, y)\n",
    "data"
   ]
  },
  {
   "cell_type": "code",
   "execution_count": 22,
   "id": "51c53f5c-412b-4a29-9018-6e0373c2ec30",
   "metadata": {},
   "outputs": [
    {
     "name": "stdout",
     "output_type": "stream",
     "text": [
      "{\"predictions\": [6.0, 6.0, 6.0, 6.0, 6.0, 6.0, 5.0, 5.0, 3.0, 6.0]}"
     ]
    }
   ],
   "source": [
    "!curl http://127.0.0.1:5000/invocations -H 'Content-Type: application/json' -d {data}"
   ]
  }
 ],
 "metadata": {
  "kernelspec": {
   "display_name": "Python 3 (ipykernel)",
   "language": "python",
   "name": "python3"
  },
  "language_info": {
   "codemirror_mode": {
    "name": "ipython",
    "version": 3
   },
   "file_extension": ".py",
   "mimetype": "text/x-python",
   "name": "python",
   "nbconvert_exporter": "python",
   "pygments_lexer": "ipython3",
   "version": "3.8.10"
  }
 },
 "nbformat": 4,
 "nbformat_minor": 5
}
