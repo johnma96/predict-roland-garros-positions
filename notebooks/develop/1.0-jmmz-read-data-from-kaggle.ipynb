{
 "cells": [
  {
   "cell_type": "code",
   "execution_count": 1,
   "metadata": {},
   "outputs": [],
   "source": [
    "# Use this initial code to work in the notebook as if it were a module, that \n",
    "# is, to be able to export classes and functions from other subpackages.\n",
    "\n",
    "import pyprojroot\n",
    "import sys\n",
    "\n",
    "package_path = pyprojroot.here().__str__()\n",
    "if package_path not in sys.path:\n",
    "    sys.path.append(package_path)"
   ]
  },
  {
   "cell_type": "code",
   "execution_count": 2,
   "metadata": {},
   "outputs": [],
   "source": [
    "from utils import AbsPaths\n",
    "from kaggle.api.kaggle_api_extended import KaggleApi\n",
    "from zipfile import ZipFile\n",
    "import os\n",
    "import glob"
   ]
  },
  {
   "cell_type": "code",
   "execution_count": 3,
   "metadata": {},
   "outputs": [],
   "source": [
    "owner_dataset = 'gmadevs'\n",
    "dataset_name = 'atp-matches-dataset'"
   ]
  },
  {
   "cell_type": "code",
   "execution_count": 4,
   "metadata": {},
   "outputs": [
    {
     "data": {
      "text/plain": [
       "False"
      ]
     },
     "execution_count": 4,
     "metadata": {},
     "output_type": "execute_result"
    }
   ],
   "source": [
    "api = KaggleApi()\n",
    "api.authenticate()\n",
    "api.dataset_download_file('imdevskp/corona-virus-report','covid_19_clean_complete.csv')\n",
    "api.dataset_download_file('gmadevs/atp-matches-dataset','atp_matches_2006.csv')\n",
    "\n",
    "# api.dataset_download_files()\n"
   ]
  },
  {
   "cell_type": "code",
   "execution_count": 66,
   "metadata": {},
   "outputs": [],
   "source": [
    "def restart_dataset(path, dataset_name):\n",
    "    zip_file = path+dataset_name+'.zip'\n",
    "    try:\n",
    "        \n",
    "        zf = ZipFile(file=zip_file)\n",
    "        list_files_zip = zf.namelist()\n",
    "        print(list_files_zip)\n",
    "        zf.close()\n",
    "        \n",
    "        for filename in [*[path+l for l in list_files_zip], zip_file]:\n",
    "            try:\n",
    "                os.remove(filename)\n",
    "            except: pass\n",
    "            \n",
    "        \n",
    "    except: pass\n",
    "\n",
    "\n",
    "def dowload_kaggle_dataset(owner_dataset:str , \n",
    "                            dataset_name:str , \n",
    "                            file_name:str = None,\n",
    "                            path_to_save:str = None, \n",
    "                            uncompress_dataset: bool = True,\n",
    "                            **kwargs):\n",
    "    \"\"\"\n",
    "    Download a complete dataset or parts of a dataset using the kaggle API. You \n",
    "    need to dowload credentials and put it at ~/.kaggle/kaggle.json on Linux, OSX, \n",
    "    and other UNIX-based operating systems, and at C:\\\\Users<Windows-username>.kaggle\\\\kaggle.json \n",
    "    on Windows To get more information about de API please read \n",
    "    https://www.kaggle.com/docs/api , https://medium.com/analytics-vidhya/fetch-data-from-kaggle-with-python-9154a4c610e3\n",
    "\n",
    "    Parameters\n",
    "    ----------\n",
    "    owner_dataset : str\n",
    "        Kaglee user who owns the dataset\n",
    "    dataset_name : str\n",
    "        Name of the dataset to be downloaded\n",
    "    file_name : str, optional\n",
    "        Name of file within dataset to dowload, by default is None\n",
    "    path_to_save : str, optional\n",
    "        Path to save the downloaded .zip file, by default None. If is None the \n",
    "        data is downloaded in the the raw folder within data folder\n",
    "    uncompress_dataset: bool, optional\n",
    "        If you want to uncompress the dataset when this come in .zip format \n",
    "    \"\"\"\n",
    "    \n",
    "    # Connect to kaggle api. You need to have kaggle credentials in the path \n",
    "    # 'C:\\Users\\<username>\\.kaggle\\'\n",
    "    \n",
    "    \n",
    "    if path_to_save is None:\n",
    "        path_to_save = AbsPaths().get_abs_path_folder(folder_name='raw')\n",
    "\n",
    "    dataset = owner_dataset + '/' + dataset_name\n",
    "\n",
    "    api = KaggleApi()\n",
    "    api.authenticate()\n",
    "\n",
    "    if file_name is None:\n",
    "        restart_dataset(path=path_to_save, dataset_name=dataset_name)\n",
    "        api.dataset_download_files(dataset=dataset, path=path_to_save, **kwargs)\n",
    "        if uncompress_dataset:\n",
    "            uncompress_zip_file(file_path=path_to_save+dataset_name+'.zip')\n",
    "    else:\n",
    "        try:\n",
    "            os.remove(path_to_save+file_name)\n",
    "            restart_dataset(path=path_to_save, dataset_name=file_name)\n",
    "        except:pass\n",
    "        \n",
    "        api.dataset_download_file(dataset=dataset, file_name=file_name, path=path_to_save, **kwargs)\n",
    "        if uncompress_dataset:\n",
    "            try:\n",
    "                uncompress_zip_file(file_path=path_to_save+file_name+'.zip')\n",
    "            except: pass\n",
    "\n",
    "    \n",
    "\n",
    "\n",
    "def uncompress_zip_file(file_path: str = None):\n",
    "    \"\"\"\n",
    "    Unzip a .zip file\n",
    "\n",
    "    Parameters\n",
    "    ----------\n",
    "    file_path : str, optional\n",
    "        Absolute path of the file to be decompressed. If None, a filename must \n",
    "        be supplied that is found within the repository., by default None\n",
    "    file_name : str, optional\n",
    "        File name .zip, by default None\n",
    "    \n",
    "    Raises\n",
    "    ------\n",
    "    FileNotFoundError\n",
    "        If no information is provided for unzipping a file\n",
    "    \"\"\"\n",
    "    if (file_path is None):\n",
    "        msg = 'You must provide a file path or file name'\n",
    "        raise FileNotFoundError(msg)\n",
    "    \n",
    "    folder_file = os.sep.join(file_path.split(os.sep)[:-1])\n",
    "    \n",
    "    zf = ZipFile(file=file_path)\n",
    "\n",
    "    # Extracted data is saved in the same directory of the .zip file\n",
    "    zf.extractall(path=folder_file)\n",
    "    zf.close()\n"
   ]
  },
  {
   "cell_type": "code",
   "execution_count": 57,
   "metadata": {},
   "outputs": [],
   "source": [
    "# zip_f= AbsPaths().get_abs_path_file('atp-matches-dataset.zip')\n",
    "# zf = ZipFile(file=zip_f)\n",
    "# zf.namelist()"
   ]
  },
  {
   "cell_type": "code",
   "execution_count": 58,
   "metadata": {},
   "outputs": [
    {
     "data": {
      "text/plain": [
       "'h:\\\\My Drive\\\\UN_Analytics_Specialization\\\\data-products\\\\project\\\\predict-roland-garros-positions\\\\data\\\\interim\\\\'"
      ]
     },
     "execution_count": 58,
     "metadata": {},
     "output_type": "execute_result"
    }
   ],
   "source": [
    "interim_data = AbsPaths().get_abs_path_folder('interim')\n",
    "interim_data"
   ]
  },
  {
   "cell_type": "code",
   "execution_count": 63,
   "metadata": {},
   "outputs": [],
   "source": [
    "owner_dataset = 'imdevskp'\n",
    "dataset_name = 'corona-virus-report'"
   ]
  },
  {
   "cell_type": "code",
   "execution_count": 59,
   "metadata": {},
   "outputs": [],
   "source": [
    "owner_dataset = 'gmadevs'\n",
    "dataset_name = 'atp-matches-dataset'"
   ]
  },
  {
   "cell_type": "code",
   "execution_count": 60,
   "metadata": {},
   "outputs": [
    {
     "name": "stdout",
     "output_type": "stream",
     "text": [
      "here\n"
     ]
    }
   ],
   "source": [
    "dowload_kaggle_dataset(owner_dataset=owner_dataset, dataset_name=dataset_name)\n",
    "# dowload_kaggle_dataset(owner_dataset=owner_dataset, dataset_name=dataset_name, file_name='atp_matches_2012.csv')\n",
    "# uncompress_zip_file(file_name='atp-matches-dataset.zip')"
   ]
  },
  {
   "cell_type": "code",
   "execution_count": 61,
   "metadata": {},
   "outputs": [
    {
     "name": "stdout",
     "output_type": "stream",
     "text": [
      "here\n"
     ]
    }
   ],
   "source": [
    "dowload_kaggle_dataset(owner_dataset=owner_dataset, dataset_name=dataset_name, file_name='atp_matches_2012.csv')"
   ]
  },
  {
   "cell_type": "code",
   "execution_count": 52,
   "metadata": {},
   "outputs": [
    {
     "name": "stdout",
     "output_type": "stream",
     "text": [
      "['covid_19_clean_complete.csv']\n",
      "h:\\My Drive\\UN_Analytics_Specialization\\data-products\\project\\predict-roland-garros-positions\\data\\raw\\covid_19_clean_complete.csv\n",
      "h:\\My Drive\\UN_Analytics_Specialization\\data-products\\project\\predict-roland-garros-positions\\data\\raw\\covid_19_clean_complete.csv.zip\n",
      "eliminado: h:\\My Drive\\UN_Analytics_Specialization\\data-products\\project\\predict-roland-garros-positions\\data\\raw\\covid_19_clean_complete.csv.zip\n"
     ]
    }
   ],
   "source": [
    "dowload_kaggle_dataset(owner_dataset=owner_dataset, dataset_name=dataset_name, file_name='covid_19_clean_complete.csv')"
   ]
  },
  {
   "cell_type": "code",
   "execution_count": 68,
   "metadata": {},
   "outputs": [
    {
     "name": "stdout",
     "output_type": "stream",
     "text": [
      "h:\\My Drive\\UN_Analytics_Specialization\\data-products\\project\\predict-roland-garros-positions\\data\\raw\\covid_19_clean_complete.csv.zip\n",
      "['covid_19_clean_complete.csv']\n",
      "h:\\My Drive\\UN_Analytics_Specialization\\data-products\\project\\predict-roland-garros-positions\\data\\raw\\covid_19_clean_complete.csv\n",
      "eliminado: h:\\My Drive\\UN_Analytics_Specialization\\data-products\\project\\predict-roland-garros-positions\\data\\raw\\covid_19_clean_complete.csv\n",
      "h:\\My Drive\\UN_Analytics_Specialization\\data-products\\project\\predict-roland-garros-positions\\data\\raw\\covid_19_clean_complete.csv.zip\n",
      "eliminado: h:\\My Drive\\UN_Analytics_Specialization\\data-products\\project\\predict-roland-garros-positions\\data\\raw\\covid_19_clean_complete.csv.zip\n"
     ]
    }
   ],
   "source": [
    "restart_dataset(path=AbsPaths().get_abs_path_folder('raw'), dataset_name='covid_19_clean_complete.csv')"
   ]
  },
  {
   "cell_type": "code",
   "execution_count": null,
   "metadata": {},
   "outputs": [],
   "source": []
  }
 ],
 "metadata": {
  "kernelspec": {
   "display_name": ".venv",
   "language": "python",
   "name": "python3"
  },
  "language_info": {
   "codemirror_mode": {
    "name": "ipython",
    "version": 3
   },
   "file_extension": ".py",
   "mimetype": "text/x-python",
   "name": "python",
   "nbconvert_exporter": "python",
   "pygments_lexer": "ipython3",
   "version": "3.10.8"
  },
  "orig_nbformat": 4,
  "vscode": {
   "interpreter": {
    "hash": "dffb378cfcbe0516010cd3d57cbbd990b5eb36e7d2bbd9b040f205f65695b592"
   }
  }
 },
 "nbformat": 4,
 "nbformat_minor": 2
}
