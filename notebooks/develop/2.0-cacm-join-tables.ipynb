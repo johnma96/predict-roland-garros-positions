{
 "cells": [
  {
   "cell_type": "code",
   "execution_count": 1,
   "metadata": {},
   "outputs": [],
   "source": [
    "# Use this initial code to work in the notebook as if it were a module, that \n",
    "# is, to be able to export classes and functions from other subpackages.\n",
    "\n",
    "import pyprojroot\n",
    "import sys\n",
    "\n",
    "package_path = pyprojroot.here().__str__()\n",
    "if package_path not in sys.path:\n",
    "    sys.path.append(package_path)"
   ]
  },
  {
   "cell_type": "code",
   "execution_count": 2,
   "metadata": {},
   "outputs": [],
   "source": [
    "from utils import AbsPaths\n",
    "import os\n",
    "import pandas as pd\n",
    "import numpy as np\n",
    "import glob\n",
    "import re"
   ]
  },
  {
   "cell_type": "code",
   "execution_count": 4,
   "metadata": {},
   "outputs": [],
   "source": [
    "def get_list_files(start_file_name = \"atp_matches\", path = None):\n",
    "    if path is None:\n",
    "        path = AbsPaths().get_abs_path_folder(folder_name=\"raw\")\n",
    "\n",
    "    return sorted(glob.glob(path + f\"{start_file_name}\" + \"*.csv\"))\n",
    "\n"
   ]
  },
  {
   "cell_type": "code",
   "execution_count": 8,
   "metadata": {},
   "outputs": [],
   "source": [
    "def validate_year(list_files, year, index):\n",
    "    if index not in [0,-1]:\n",
    "        raise IndexError(\"You need provide 0 (start) or -1 (end)\")\n",
    "    if year is None:\n",
    "        file = list_files[index]\n",
    "        year = \"/\".join(re.findall(r\"\\d+\",file.split(os.sep)[-1]))\n",
    "\n",
    "    else:\n",
    "        file = [f for f in list_files if year in f]\n",
    "\n",
    "        if len(file) == 0:\n",
    "            raise FileNotFoundError(\"You need provide an available start year\")\n",
    "        \n",
    "        else:\n",
    "            file = file[0]\n",
    "\n",
    "    return file, year"
   ]
  },
  {
   "cell_type": "code",
   "execution_count": 51,
   "metadata": {},
   "outputs": [],
   "source": [
    "def join_tables(start_year:str = None, start_file_name = \"atp_matches\", end_year = None, path_read = None, path_to_save = None):\n",
    "    if path_read is None:\n",
    "        path_read = AbsPaths().get_abs_path_folder(folder_name=\"raw\")\n",
    "    list_files = get_list_files(start_file_name = start_file_name, path = path_read)\n",
    "\n",
    "    start_file, start_year = validate_year(list_files=list_files, year=start_year, index = 0)\n",
    "    end_year = validate_year(list_files=list_files, year=end_year, index = -1)[1]\n",
    "\n",
    "    data = pd.read_csv(start_file,sep=\",\")\n",
    "\n",
    "    for file in list_files:\n",
    "        if file == start_file:\n",
    "            pass\n",
    "        year_file = \"/\".join(re.findall(r\"\\d+\",file.split(os.sep)[-1]))\n",
    "        # print(start_year, end_year, year_file)\n",
    "        if (year_file > start_year) and (year_file <= end_year):\n",
    "            df = pd.read_csv(file, sep=',')\n",
    "            data = pd.concat([data, df],ignore_index=True)\n",
    "        \n",
    "        data = data[data[\"tourney_level\"] == \"G\"]\n",
    "        \n",
    "    if path_to_save is None:\n",
    "        path_to_save = AbsPaths().get_abs_path_folder(folder_name=\"interim\")\n",
    "    \n",
    "    data.to_csv(path_to_save + f\"{start_file_name}_historic.csv\", index=False)\n",
    "\n",
    "    # return data\n",
    "\n",
    "    "
   ]
  },
  {
   "cell_type": "code",
   "execution_count": 52,
   "metadata": {},
   "outputs": [],
   "source": [
    "join_tables()"
   ]
  }
 ],
 "metadata": {
  "kernelspec": {
   "display_name": "ProductosDatos",
   "language": "python",
   "name": "python3"
  },
  "language_info": {
   "codemirror_mode": {
    "name": "ipython",
    "version": 3
   },
   "file_extension": ".py",
   "mimetype": "text/x-python",
   "name": "python",
   "nbconvert_exporter": "python",
   "pygments_lexer": "ipython3",
   "version": "3.9.12"
  },
  "orig_nbformat": 4,
  "vscode": {
   "interpreter": {
    "hash": "882d16f0fb793741cc9bb07f0678196aa27494dd352b5226b4c929b29ebcba39"
   }
  }
 },
 "nbformat": 4,
 "nbformat_minor": 2
}
